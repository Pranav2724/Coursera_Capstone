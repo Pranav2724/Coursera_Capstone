{
 "cells": [
  {
   "cell_type": "code",
   "execution_count": 19,
   "metadata": {},
   "outputs": [],
   "source": [
    "import requests\n",
    "import pandas as pd\n",
    "import re\n",
    "from bs4 import BeautifulSoup"
   ]
  },
  {
   "cell_type": "markdown",
   "metadata": {},
   "source": [
    "Creating the master Dataframe -->"
   ]
  },
  {
   "cell_type": "code",
   "execution_count": 20,
   "metadata": {},
   "outputs": [],
   "source": [
    "columns = ['Postal Code','Borough','Neighborhood']\n",
    "Master_DF = pd.DataFrame(columns=columns)"
   ]
  },
  {
   "cell_type": "markdown",
   "metadata": {},
   "source": [
    "I'll be using Beautiful Soup to parse the HTML content of the webpage"
   ]
  },
  {
   "cell_type": "code",
   "execution_count": 21,
   "metadata": {},
   "outputs": [],
   "source": [
    "response = requests.get('https://en.wikipedia.org/wiki/List_of_postal_codes_of_Canada:_M')\n",
    "data = BeautifulSoup(response.text,'html.parser')"
   ]
  },
  {
   "cell_type": "code",
   "execution_count": 23,
   "metadata": {},
   "outputs": [
    {
     "name": "stdout",
     "output_type": "stream",
     "text": [
      "181\n",
      "<tr>\n",
      "<th>Postal Code\n",
      "</th>\n",
      "<th>Borough\n",
      "</th>\n",
      "<th>Neighbourhood\n",
      "</th></tr>\n"
     ]
    }
   ],
   "source": [
    "table = data.find_all('table')[0]\n",
    "rows = table.find_all('tr')\n",
    "print(len(rows))\n",
    "print(rows[0])"
   ]
  },
  {
   "cell_type": "markdown",
   "metadata": {},
   "source": [
    "After inspecting the webpage, the required table is contained within the table tag, which I've extracted using the find_all command\n",
    "\n",
    "Within the table , the individual rows are contained within the tr tag. The length of rows is 181 which means we have 180 records. The first record doesn't contin the information, it's just the name of columns"
   ]
  },
  {
   "cell_type": "code",
   "execution_count": 24,
   "metadata": {},
   "outputs": [],
   "source": [
    "for x in rows[1:]:\n",
    "    temp = x.find_all('td')\n",
    "    list_temp = []\n",
    "    for i in temp:\n",
    "        list_temp.append(str(i.text.strip()))\n",
    "    #print(list_temp)\n",
    "    pc = list_temp[0]\n",
    "    b = list_temp[1]\n",
    "    n = list_temp[2]\n",
    "    Master_DF = Master_DF.append({'Postal Code':pc,'Borough':b,'Neighborhood':n},ignore_index=True)"
   ]
  },
  {
   "cell_type": "code",
   "execution_count": 25,
   "metadata": {},
   "outputs": [
    {
     "data": {
      "text/plain": [
       "(180, 3)"
      ]
     },
     "execution_count": 25,
     "metadata": {},
     "output_type": "execute_result"
    }
   ],
   "source": [
    "Master_DF.shape"
   ]
  },
  {
   "cell_type": "markdown",
   "metadata": {},
   "source": [
    "Iterating over the rows , the individual elements are contained within the <td> tag which I am accesing and appending to the Master Dataframe"
   ]
  },
  {
   "cell_type": "code",
   "execution_count": 26,
   "metadata": {},
   "outputs": [
    {
     "data": {
      "text/plain": [
       "(103, 3)"
      ]
     },
     "execution_count": 26,
     "metadata": {},
     "output_type": "execute_result"
    }
   ],
   "source": [
    "Master_DF = Master_DF[Master_DF['Borough'] != 'Not assigned']\n",
    "Master_DF.shape"
   ]
  }
 ],
 "metadata": {
  "kernelspec": {
   "display_name": "Python 3",
   "language": "python",
   "name": "python3"
  },
  "language_info": {
   "codemirror_mode": {
    "name": "ipython",
    "version": 3
   },
   "file_extension": ".py",
   "mimetype": "text/x-python",
   "name": "python",
   "nbconvert_exporter": "python",
   "pygments_lexer": "ipython3",
   "version": "3.6.9"
  }
 },
 "nbformat": 4,
 "nbformat_minor": 2
}
